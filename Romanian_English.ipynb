{
 "cells": [
  {
   "cell_type": "code",
   "execution_count": 1,
   "metadata": {
    "colab": {
     "base_uri": "https://localhost:8080/"
    },
    "executionInfo": {
     "elapsed": 79154,
     "status": "ok",
     "timestamp": 1714540813002,
     "user": {
      "displayName": "KALYAN REDDY S",
      "userId": "11001298117455596299"
     },
     "user_tz": -330
    },
    "id": "yJFeBxBEb_SN",
    "outputId": "87784727-916a-4a39-f6d9-f6468d377ccd"
   },
   "outputs": [
    {
     "name": "stdout",
     "output_type": "stream",
     "text": [
      "Requirement already satisfied: nltk in c:\\users\\rbalu\\anaconda3\\lib\\site-packages (3.8.1)\n",
      "Requirement already satisfied: bert-score in c:\\users\\rbalu\\anaconda3\\lib\\site-packages (0.3.13)\n",
      "Requirement already satisfied: click in c:\\users\\rbalu\\anaconda3\\lib\\site-packages (from nltk) (8.1.7)\n",
      "Requirement already satisfied: joblib in c:\\users\\rbalu\\anaconda3\\lib\\site-packages (from nltk) (1.2.0)\n",
      "Requirement already satisfied: regex>=2021.8.3 in c:\\users\\rbalu\\anaconda3\\lib\\site-packages (from nltk) (2023.10.3)\n",
      "Requirement already satisfied: tqdm in c:\\users\\rbalu\\anaconda3\\lib\\site-packages (from nltk) (4.65.0)\n",
      "Requirement already satisfied: torch>=1.0.0 in c:\\users\\rbalu\\anaconda3\\lib\\site-packages (from bert-score) (2.3.0)\n",
      "Requirement already satisfied: pandas>=1.0.1 in c:\\users\\rbalu\\anaconda3\\lib\\site-packages (from bert-score) (2.1.4)\n",
      "Requirement already satisfied: transformers>=3.0.0 in c:\\users\\rbalu\\anaconda3\\lib\\site-packages (from bert-score) (4.40.1)\n",
      "Requirement already satisfied: numpy in c:\\users\\rbalu\\anaconda3\\lib\\site-packages (from bert-score) (1.24.3)\n",
      "Requirement already satisfied: requests in c:\\users\\rbalu\\anaconda3\\lib\\site-packages (from bert-score) (2.31.0)\n",
      "Requirement already satisfied: matplotlib in c:\\users\\rbalu\\anaconda3\\lib\\site-packages (from bert-score) (3.8.0)\n",
      "Requirement already satisfied: packaging>=20.9 in c:\\users\\rbalu\\anaconda3\\lib\\site-packages (from bert-score) (23.1)\n",
      "Requirement already satisfied: python-dateutil>=2.8.2 in c:\\users\\rbalu\\anaconda3\\lib\\site-packages (from pandas>=1.0.1->bert-score) (2.8.2)\n",
      "Requirement already satisfied: pytz>=2020.1 in c:\\users\\rbalu\\anaconda3\\lib\\site-packages (from pandas>=1.0.1->bert-score) (2023.3.post1)\n",
      "Requirement already satisfied: tzdata>=2022.1 in c:\\users\\rbalu\\anaconda3\\lib\\site-packages (from pandas>=1.0.1->bert-score) (2023.3)\n",
      "Requirement already satisfied: filelock in c:\\users\\rbalu\\anaconda3\\lib\\site-packages (from torch>=1.0.0->bert-score) (3.13.1)\n",
      "Requirement already satisfied: typing-extensions>=4.8.0 in c:\\users\\rbalu\\anaconda3\\lib\\site-packages (from torch>=1.0.0->bert-score) (4.9.0)\n",
      "Requirement already satisfied: sympy in c:\\users\\rbalu\\anaconda3\\lib\\site-packages (from torch>=1.0.0->bert-score) (1.12)\n",
      "Requirement already satisfied: networkx in c:\\users\\rbalu\\anaconda3\\lib\\site-packages (from torch>=1.0.0->bert-score) (3.1)\n",
      "Requirement already satisfied: jinja2 in c:\\users\\rbalu\\anaconda3\\lib\\site-packages (from torch>=1.0.0->bert-score) (3.1.3)\n",
      "Requirement already satisfied: fsspec in c:\\users\\rbalu\\anaconda3\\lib\\site-packages (from torch>=1.0.0->bert-score) (2023.10.0)\n",
      "Requirement already satisfied: mkl<=2021.4.0,>=2021.1.1 in c:\\users\\rbalu\\anaconda3\\lib\\site-packages (from torch>=1.0.0->bert-score) (2021.4.0)\n",
      "Requirement already satisfied: colorama in c:\\users\\rbalu\\anaconda3\\lib\\site-packages (from tqdm->nltk) (0.4.6)\n",
      "Requirement already satisfied: huggingface-hub<1.0,>=0.19.3 in c:\\users\\rbalu\\anaconda3\\lib\\site-packages (from transformers>=3.0.0->bert-score) (0.22.2)\n",
      "Requirement already satisfied: pyyaml>=5.1 in c:\\users\\rbalu\\anaconda3\\lib\\site-packages (from transformers>=3.0.0->bert-score) (6.0.1)\n",
      "Requirement already satisfied: tokenizers<0.20,>=0.19 in c:\\users\\rbalu\\anaconda3\\lib\\site-packages (from transformers>=3.0.0->bert-score) (0.19.1)\n",
      "Requirement already satisfied: safetensors>=0.4.1 in c:\\users\\rbalu\\anaconda3\\lib\\site-packages (from transformers>=3.0.0->bert-score) (0.4.3)\n",
      "Requirement already satisfied: contourpy>=1.0.1 in c:\\users\\rbalu\\anaconda3\\lib\\site-packages (from matplotlib->bert-score) (1.2.0)\n",
      "Requirement already satisfied: cycler>=0.10 in c:\\users\\rbalu\\anaconda3\\lib\\site-packages (from matplotlib->bert-score) (0.11.0)\n",
      "Requirement already satisfied: fonttools>=4.22.0 in c:\\users\\rbalu\\anaconda3\\lib\\site-packages (from matplotlib->bert-score) (4.25.0)\n",
      "Requirement already satisfied: kiwisolver>=1.0.1 in c:\\users\\rbalu\\anaconda3\\lib\\site-packages (from matplotlib->bert-score) (1.4.4)\n",
      "Requirement already satisfied: pillow>=6.2.0 in c:\\users\\rbalu\\anaconda3\\lib\\site-packages (from matplotlib->bert-score) (10.2.0)\n",
      "Requirement already satisfied: pyparsing>=2.3.1 in c:\\users\\rbalu\\anaconda3\\lib\\site-packages (from matplotlib->bert-score) (3.0.9)\n",
      "Requirement already satisfied: charset-normalizer<4,>=2 in c:\\users\\rbalu\\anaconda3\\lib\\site-packages (from requests->bert-score) (2.0.4)\n",
      "Requirement already satisfied: idna<4,>=2.5 in c:\\users\\rbalu\\anaconda3\\lib\\site-packages (from requests->bert-score) (3.4)\n",
      "Requirement already satisfied: urllib3<3,>=1.21.1 in c:\\users\\rbalu\\anaconda3\\lib\\site-packages (from requests->bert-score) (2.0.7)\n",
      "Requirement already satisfied: certifi>=2017.4.17 in c:\\users\\rbalu\\anaconda3\\lib\\site-packages (from requests->bert-score) (2024.2.2)\n",
      "Requirement already satisfied: intel-openmp==2021.* in c:\\users\\rbalu\\anaconda3\\lib\\site-packages (from mkl<=2021.4.0,>=2021.1.1->torch>=1.0.0->bert-score) (2021.4.0)\n",
      "Requirement already satisfied: tbb==2021.* in c:\\users\\rbalu\\anaconda3\\lib\\site-packages (from mkl<=2021.4.0,>=2021.1.1->torch>=1.0.0->bert-score) (2021.12.0)\n",
      "Requirement already satisfied: six>=1.5 in c:\\users\\rbalu\\anaconda3\\lib\\site-packages (from python-dateutil>=2.8.2->pandas>=1.0.1->bert-score) (1.16.0)\n",
      "Requirement already satisfied: MarkupSafe>=2.0 in c:\\users\\rbalu\\anaconda3\\lib\\site-packages (from jinja2->torch>=1.0.0->bert-score) (2.1.3)\n",
      "Requirement already satisfied: mpmath>=0.19 in c:\\users\\rbalu\\anaconda3\\lib\\site-packages (from sympy->torch>=1.0.0->bert-score) (1.3.0)\n"
     ]
    }
   ],
   "source": [
    "\n",
    "!pip install nltk bert-score"
   ]
  },
  {
   "cell_type": "code",
   "execution_count": 2,
   "metadata": {
    "executionInfo": {
     "elapsed": 3,
     "status": "ok",
     "timestamp": 1714542340808,
     "user": {
      "displayName": "KALYAN REDDY S",
      "userId": "11001298117455596299"
     },
     "user_tz": -330
    },
    "id": "b75fvF5scgRa"
   },
   "outputs": [
    {
     "name": "stderr",
     "output_type": "stream",
     "text": [
      "c:\\Users\\rbalu\\anaconda3\\Lib\\site-packages\\torchtext\\data\\__init__.py:4: UserWarning: \n",
      "/!\\ IMPORTANT WARNING ABOUT TORCHTEXT STATUS /!\\ \n",
      "Torchtext is deprecated and the last released version will be 0.18 (this one). You can silence this warning by calling the following at the beginnign of your scripts: `import torchtext; torchtext.disable_torchtext_deprecation_warning()`\n",
      "  warnings.warn(torchtext._TORCHTEXT_DEPRECATION_MSG)\n"
     ]
    }
   ],
   "source": [
    "\n",
    "import re\n",
    "import string\n",
    "import pickle\n",
    "import pandas as pd\n",
    "import numpy as np\n",
    "import unicodedata\n",
    "import random\n",
    "import time\n",
    "import math\n",
    "import torch\n",
    "import torch.nn as nn\n",
    "import torch.nn.functional as F\n",
    "import torchtext\n",
    "import matplotlib.pyplot as plt\n",
    "import nltk\n",
    "from unicodedata import normalize\n",
    "from pickle import dump\n",
    "from io import open\n",
    "from collections import defaultdict\n",
    "from tqdm import tqdm\n",
    "from torch.utils.data import Dataset, DataLoader, TensorDataset, RandomSampler\n",
    "from torch import optim\n",
    "from torchtext.data import get_tokenizer\n",
    "from nltk.translate.bleu_score import sentence_bleu, SmoothingFunction\n",
    "from nltk.translate.meteor_score import single_meteor_score\n",
    "from bert_score import score as bert_score_func\n",
    "from nltk.translate.bleu_score import corpus_bleu\n",
    "from nltk.translate.meteor_score import meteor_score\n",
    "from bert_score import score as bert_score"
   ]
  },
  {
   "cell_type": "code",
   "execution_count": 3,
   "metadata": {
    "id": "goxX6ZACEuS8"
   },
   "outputs": [],
   "source": [
    "WEIGHTS_FOLDER = \"\""
   ]
  },
  {
   "cell_type": "code",
   "execution_count": 4,
   "metadata": {
    "colab": {
     "base_uri": "https://localhost:8080/"
    },
    "executionInfo": {
     "elapsed": 717,
     "status": "ok",
     "timestamp": 1714540831270,
     "user": {
      "displayName": "KALYAN REDDY S",
      "userId": "11001298117455596299"
     },
     "user_tz": -330
    },
    "id": "ZVF-kcLxc7Kw",
    "outputId": "729a74cf-094c-480a-83a0-bba83f537f02"
   },
   "outputs": [
    {
     "name": "stdout",
     "output_type": "stream",
     "text": [
      "Running on cpu\n"
     ]
    }
   ],
   "source": [
    "device = torch.device(\"cuda\" if torch.cuda.is_available() else \"cpu\")\n",
    "print(f'Running on {device}')"
   ]
  },
  {
   "cell_type": "code",
   "execution_count": 6,
   "metadata": {
    "colab": {
     "base_uri": "https://localhost:8080/"
    },
    "executionInfo": {
     "elapsed": 33309,
     "status": "ok",
     "timestamp": 1714540867342,
     "user": {
      "displayName": "KALYAN REDDY S",
      "userId": "11001298117455596299"
     },
     "user_tz": -330
    },
    "id": "eIrirgQlezeC",
    "outputId": "a2ae4048-7d5f-4c28-e247-0ec6f99d7da9"
   },
   "outputs": [
    {
     "name": "stdout",
     "output_type": "stream",
     "text": [
      "Saved English sentences to english.pkl file\n",
      "Saved Romanian sentences to romanian.pkl file\n"
     ]
    }
   ],
   "source": [
    "def read_file(file_name):\n",
    "    with open(file_name, mode='rt', encoding='utf-8') as file:\n",
    "        return file.read()\n",
    "\n",
    "def process_sentences(text):\n",
    "    sentences = text.strip().split('\\n')\n",
    "    regex_statement = re.compile('[^%s]' % re.escape(string.printable))\n",
    "    translation_table = str.maketrans('', '', string.punctuation)\n",
    "\n",
    "    filtered_sentences = []\n",
    "    for line in sentences:\n",
    "        line = normalize('NFD', line).encode('ascii', 'ignore').decode('UTF-8')\n",
    "        words = [word.lower().translate(translation_table) for word in line.split()]\n",
    "        words = [regex_statement.sub('', word) for word in words if word.isalpha()]\n",
    "        filtered_sentences.append(' '.join(words))\n",
    "\n",
    "    return filtered_sentences\n",
    "\n",
    "def save_processed_sentences(filtered_sentences, output_filename):\n",
    "    with open(output_filename, 'wb') as file:\n",
    "        pickle.dump(filtered_sentences, file)\n",
    "\n",
    "def process_input_text(file_name, output_filename):\n",
    "    text = read_file(file_name)\n",
    "    filtered_sentences = process_sentences(text)\n",
    "    save_processed_sentences(filtered_sentences, output_filename)\n",
    "    return filtered_sentences\n",
    "\n",
    "filtered_sentences1 = process_input_text('europarl-v7.ro-en.en', 'english.pkl')\n",
    "print(\"Saved English sentences to english.pkl file\")\n",
    "\n",
    "filtered_sentences2 = process_input_text('europarl-v7.ro-en.ro', 'romanian.pkl')\n",
    "print(\"Saved Romanian sentences to romanian.pkl file\")"
   ]
  },
  {
   "cell_type": "code",
   "execution_count": 7,
   "metadata": {
    "executionInfo": {
     "elapsed": 5,
     "status": "ok",
     "timestamp": 1714540881041,
     "user": {
      "displayName": "KALYAN REDDY S",
      "userId": "11001298117455596299"
     },
     "user_tz": -330
    },
    "id": "uoItodVMezVr"
   },
   "outputs": [],
   "source": [
    "def load_vocabulary(english_filename, romanian_filename):\n",
    "    with open(english_filename, 'rb') as f:\n",
    "        english_vocabulary = pickle.load(f)\n",
    "    with open(romanian_filename, 'rb') as f:\n",
    "        romanian_vocabulary = pickle.load(f)\n",
    "\n",
    "    data = pd.DataFrame({\n",
    "        'English': english_vocabulary,\n",
    "        'Romanian': romanian_vocabulary\n",
    "    })\n",
    "\n",
    "    return english_vocabulary, romanian_vocabulary, data\n",
    "\n",
    "english_vocabulary, romanian_vocabulary, vocabulary_data = load_vocabulary('english.pkl', 'romanian.pkl')"
   ]
  },
  {
   "cell_type": "code",
   "execution_count": 8,
   "metadata": {
    "executionInfo": {
     "elapsed": 3,
     "status": "ok",
     "timestamp": 1714540883241,
     "user": {
      "displayName": "KALYAN REDDY S",
      "userId": "11001298117455596299"
     },
     "user_tz": -330
    },
    "id": "ZeHrsaaPfBDD"
   },
   "outputs": [],
   "source": [
    "def prepare_data_for_training_and_validation(english_vocabulary, romanian_vocabulary, combined_vocabulary):\n",
    "    combined_vocabulary_list = list(zip(english_vocabulary, romanian_vocabulary))\n",
    "\n",
    "    training_size = int(len(combined_vocabulary_list) * 0.70)\n",
    "    validation_size = int(len(combined_vocabulary_list) * 0.30)\n",
    "\n",
    "    combined_training_vocabulary = combined_vocabulary_list[:training_size]\n",
    "    combined_validation_vocabulary = combined_vocabulary_list[training_size: training_size + validation_size]\n",
    "\n",
    "    return combined_training_vocabulary, combined_validation_vocabulary\n",
    "\n",
    "combined_training_vocabulary, combined_validation_vocabulary = prepare_data_for_training_and_validation(english_vocabulary, romanian_vocabulary, vocabulary_data)"
   ]
  },
  {
   "cell_type": "code",
   "execution_count": 9,
   "metadata": {
    "executionInfo": {
     "elapsed": 3,
     "status": "ok",
     "timestamp": 1714540886023,
     "user": {
      "displayName": "KALYAN REDDY S",
      "userId": "11001298117455596299"
     },
     "user_tz": -330
    },
    "id": "GcG6MqmGfA-o"
   },
   "outputs": [],
   "source": [
    "def process_language(language_name, sentences):\n",
    "    word_to_index = {\"Start\": 0, \"End\": 1}\n",
    "    index_to_word = {0: \"Start\", 1: \"End\"}\n",
    "    word_count_dictionary = defaultdict(int)\n",
    "    total_number_of_words = 2\n",
    "\n",
    "    for sentence in sentences:\n",
    "        for word in sentence.split():\n",
    "            if word not in word_to_index:\n",
    "                word_to_index[word] = total_number_of_words\n",
    "                index_to_word[total_number_of_words] = word\n",
    "                total_number_of_words += 1\n",
    "            word_count_dictionary[word] += 1\n",
    "\n",
    "    return {\n",
    "        \"language_name\": language_name,\n",
    "        \"word_to_index\": word_to_index,\n",
    "        \"index_to_word\": index_to_word,\n",
    "        \"word_count_dictionary\": dict(word_count_dictionary),\n",
    "        \"total_number_of_words\": total_number_of_words\n",
    "    }"
   ]
  },
  {
   "cell_type": "code",
   "execution_count": 10,
   "metadata": {
    "executionInfo": {
     "elapsed": 2,
     "status": "ok",
     "timestamp": 1714540888821,
     "user": {
      "displayName": "KALYAN REDDY S",
      "userId": "11001298117455596299"
     },
     "user_tz": -330
    },
    "id": "GVrVsIAnfOJ8"
   },
   "outputs": [],
   "source": [
    "english_prefixes = tuple(map(lambda x: x.lower(), [\"i am \", \"i m \", \"he is\", \"he s \", \"she is\", \"she s \", \"you are\", \"you re \", \"we are\", \"we re \", \"they are\", \"they re \", \"I don t\", \"Do you\", \"I want\", \"Are you\", \"I have\", \"I think\", \"I can t\", \"I was\", \"He is\", \"I m not\", \"This is\", \"I just\", \"I didn t\", \"I am\", \"I thought\", \"I know\", \"Tom is\", \"I had\", \"Did you\", \"Have you\", \"Can you\", \"He was\", \"You don t\", \"I d like\", \"It was\", \"You should\", \"Would you\", \"I like\", \"It is\", \"She is\", \"You can t\", \"He has\", \"What do\", \"If you\", \"I need\", \"No one\", \"You are\", \"You have\", \"I feel\", \"I really\", \"Why don t\", \"I hope\", \"I will\", \"We have\", \"You re not\", \"You re very\", \"She was\", \"I love\", \"You must\", \"I can\"]))\n",
    "sentence_length = 17\n",
    "\n"
   ]
  },
  {
   "cell_type": "code",
   "execution_count": 11,
   "metadata": {
    "executionInfo": {
     "elapsed": 2,
     "status": "ok",
     "timestamp": 1714540890975,
     "user": {
      "displayName": "KALYAN REDDY S",
      "userId": "11001298117455596299"
     },
     "user_tz": -330
    },
    "id": "ILgFjNFAfQ9i"
   },
   "outputs": [],
   "source": [
    "def split_sentences(cv):\n",
    "    return len(cv[0].split(' ')) < sentence_length and \\\n",
    "           len(cv[1].split(' ')) < sentence_length and \\\n",
    "           cv[1].lower().startswith(english_prefixes)\n",
    "\n",
    "def split_english_and_romanian(combined_vocabularies):\n",
    "    return [cv for cv in combined_vocabularies if split_sentences(cv)]\n",
    "\n",
    "def prepare_data(english, romanian, combined_vocabularies_total, reverse=False):\n",
    "    if reverse:\n",
    "        combined_vocabularies_total = [list(reversed(cv)) for cv in combined_vocabularies_total]\n",
    "\n",
    "    combined_vocabularies = split_english_and_romanian(combined_vocabularies_total)\n",
    "    english_data = process_language(english, [cv[0] for cv in combined_vocabularies])\n",
    "    romanian_data = process_language(romanian, [cv[1] for cv in combined_vocabularies])\n",
    "\n",
    "    return english_data, romanian_data, combined_vocabularies"
   ]
  },
  {
   "cell_type": "code",
   "execution_count": 12,
   "metadata": {
    "executionInfo": {
     "elapsed": 2150,
     "status": "ok",
     "timestamp": 1714540895167,
     "user": {
      "displayName": "KALYAN REDDY S",
      "userId": "11001298117455596299"
     },
     "user_tz": -330
    },
    "id": "LWWmhxezdcar"
   },
   "outputs": [],
   "source": [
    "training_romanian_sentence, training_english_sentence, combined_vocabularies_for_training = prepare_data(\"English\", \"Romanian\", combined_training_vocabulary, reverse=True)\n",
    "validation_romanian_sentence, validation_english_sentence, combined_vocabularies_for_validation = prepare_data(\"English\", \"Romanian\", combined_validation_vocabulary, reverse=True)"
   ]
  },
  {
   "cell_type": "code",
   "execution_count": 13,
   "metadata": {
    "executionInfo": {
     "elapsed": 3,
     "status": "ok",
     "timestamp": 1714540897322,
     "user": {
      "displayName": "KALYAN REDDY S",
      "userId": "11001298117455596299"
     },
     "user_tz": -330
    },
    "id": "NBAlpWH6hvmq"
   },
   "outputs": [],
   "source": [
    "def tensor_from_sentences(language_data, sentence):\n",
    "    word_index = [language_data['word_to_index'].get(word, 0) for word in sentence.split(' ')]\n",
    "    word_index.append(1)\n",
    "\n",
    "    while len(word_index) < sentence_length:\n",
    "        word_index.append(2)\n",
    "\n",
    "    return torch.LongTensor(word_index)\n",
    "\n",
    "def get_tensor_vocabularies(combined_vocabularies, romanian_sentence, english_sentence):\n",
    "    combined_vocabulary_indices = []\n",
    "    for cv1, cv2 in combined_vocabularies:\n",
    "        combined_vocabulary_indices.append((tensor_from_sentences(romanian_sentence, cv1),\n",
    "                                 tensor_from_sentences(english_sentence, cv2)))\n",
    "    return combined_vocabulary_indices\n",
    "\n",
    "class CustomTextDataset(torch.utils.data.Dataset):\n",
    "    def __init__(self, combined_vocabularies, romanian_sentence, english_sentence):\n",
    "        self.vocabulary_indices = get_tensor_vocabularies(combined_vocabularies, romanian_sentence, english_sentence)\n",
    "\n",
    "    def __len__(self):\n",
    "        return len(self.vocabulary_indices)\n",
    "\n",
    "    def __getitem__(self, index):\n",
    "        english_sentence, romanian_sentence = self.vocabulary_indices[index]\n",
    "        english_sentence = english_sentence.to(device)\n",
    "        romanian_sentence = romanian_sentence.to(device)\n",
    "        return english_sentence, romanian_sentence"
   ]
  },
  {
   "cell_type": "code",
   "execution_count": 14,
   "metadata": {
    "executionInfo": {
     "elapsed": 620,
     "status": "ok",
     "timestamp": 1714540902474,
     "user": {
      "displayName": "KALYAN REDDY S",
      "userId": "11001298117455596299"
     },
     "user_tz": -330
    },
    "id": "2TB0kIgiiGfP"
   },
   "outputs": [],
   "source": [
    "batch_size = 64\n",
    "training_dataset = CustomTextDataset(combined_vocabularies_for_training, training_romanian_sentence, training_english_sentence)\n",
    "validation_dataset = CustomTextDataset(combined_vocabularies_for_validation, validation_romanian_sentence, validation_english_sentence)\n",
    "training_dataloader = DataLoader(training_dataset, batch_size=batch_size, shuffle=True)\n",
    "validation_dataloader = DataLoader(validation_dataset, batch_size=batch_size, shuffle=True)"
   ]
  },
  {
   "cell_type": "code",
   "execution_count": 15,
   "metadata": {
    "executionInfo": {
     "elapsed": 1,
     "status": "ok",
     "timestamp": 1714544663975,
     "user": {
      "displayName": "KALYAN REDDY S",
      "userId": "11001298117455596299"
     },
     "user_tz": -330
    },
    "id": "RM4ZKvpCiIKB"
   },
   "outputs": [],
   "source": [
    "class MultiHeadAttention(nn.Module):\n",
    "    def __init__(self, dim_hidden, num_heads):\n",
    "        super(MultiHeadAttention, self).__init__()\n",
    "        assert dim_hidden % num_heads == 0, \"dim_hidden must be divisible by num_heads\"\n",
    "        self.dim_hidden = dim_hidden\n",
    "        self.num_heads = num_heads\n",
    "        self.dim_per_head = dim_hidden // num_heads\n",
    "        self.linear_keys = nn.Linear(dim_hidden, dim_hidden)\n",
    "        self.linear_values = nn.Linear(dim_hidden, dim_hidden)\n",
    "        self.linear_query = nn.Linear(dim_hidden, dim_hidden)\n",
    "        self.output_linear = nn.Linear(dim_hidden, dim_hidden)\n",
    "\n",
    "    def split_heads(self, x, batch_size):\n",
    "        return x.view(batch_size, -1, self.num_heads, self.dim_per_head).transpose(1, 2)\n",
    "\n",
    "    def forward(self, query, keys, values):\n",
    "        batch_size = query.size(0)\n",
    "        query = self.split_heads(self.linear_query(query), batch_size)\n",
    "        keys = self.split_heads(self.linear_keys(keys), batch_size)\n",
    "        values = self.split_heads(self.linear_values(values), batch_size)\n",
    "        attention_scores = torch.matmul(query, keys.transpose(-2, -1)) / math.sqrt(self.dim_per_head)\n",
    "        attention_probs = F.softmax(attention_scores, dim=-1)\n",
    "        context = torch.matmul(attention_probs, values)\n",
    "        context = context.transpose(1, 2).contiguous().view(batch_size, -1, self.dim_hidden)\n",
    "        output = self.output_linear(context)\n",
    "        return output, attention_probs\n",
    "\n",
    "class DecoderWithAttention(nn.Module):\n",
    "    def __init__(self, dim_hidden, dim_output, rate_dropout=0.5, num_heads=8):\n",
    "        super(DecoderWithAttention, self).__init__()\n",
    "        self.dim_hidden = dim_hidden\n",
    "        self.layer_embedding = nn.Embedding(dim_output, dim_hidden)\n",
    "        self.layer_dropout = nn.Dropout(rate_dropout)\n",
    "        self.layer_attention = MultiHeadAttention(dim_hidden, num_heads)\n",
    "        self.layer_gru = nn.GRU(dim_hidden * 2, dim_hidden, batch_first=True)\n",
    "        self.layer_output = nn.Linear(dim_hidden, dim_output)\n",
    "\n",
    "    def forward(self, outputs_encoder, hidden_initial, sequence_target=None, teacher_forcing_ratio=0.5):\n",
    "        size_batch = outputs_encoder.size(0)\n",
    "        input_decoder = self.init_input(size_batch)\n",
    "        hidden_decoder = hidden_initial\n",
    "        list_outputs = []\n",
    "        list_attention_weights = []\n",
    "\n",
    "        for t in range(sequence_target.size(1)):\n",
    "            output_decoder, hidden_decoder, weights_attention = self.step_decoder(input_decoder, hidden_decoder, outputs_encoder)\n",
    "            list_outputs.append(output_decoder)\n",
    "            list_attention_weights.append(weights_attention)\n",
    "\n",
    "            if random.random() < teacher_forcing_ratio:\n",
    "                input_decoder = sequence_target[:, t].unsqueeze(1)\n",
    "            else:\n",
    "                input_decoder = self.next_input(output_decoder)\n",
    "\n",
    "        outputs_combined = torch.cat(list_outputs, dim=1)\n",
    "        outputs_log_softmax = F.log_softmax(outputs_combined, dim=-1)\n",
    "        attention_combined = torch.cat(list_attention_weights, dim=1)\n",
    "\n",
    "        return outputs_log_softmax, hidden_decoder, attention_combined\n",
    "\n",
    "    def step_decoder(self, sequence_input, state_hidden, outputs_encoder):\n",
    "        sequence_embedded = self.layer_dropout(self.layer_embedding(sequence_input))\n",
    "        vector_context, weights_attention = self.layer_attention(state_hidden.permute(1, 0, 2), outputs_encoder, outputs_encoder)\n",
    "        input_gru = torch.cat([sequence_embedded, vector_context], dim=2)\n",
    "        output_gru, state_hidden = self.layer_gru(input_gru, state_hidden)\n",
    "        output = self.layer_output(output_gru)\n",
    "\n",
    "        if output.dim() == 2:\n",
    "            output = output.unsqueeze(1)\n",
    "\n",
    "        return output, state_hidden, weights_attention\n",
    "\n",
    "    def init_input(self, size_batch):\n",
    "        return torch.full((size_batch, 1), 0, dtype=torch.long, device=device)\n",
    "\n",
    "    def next_input(self, output_decoder):\n",
    "        return output_decoder.topk(1)[1].squeeze(-1).detach()\n",
    "\n",
    "\n",
    "class SequenceEncoder(nn.Module):\n",
    "    def __init__(self, dim_input, dim_hidden, rate_dropout=0.5):\n",
    "        super(SequenceEncoder, self).__init__()\n",
    "        self.dim_hidden = dim_hidden\n",
    "        self.layer_embedding = nn.Embedding(dim_input, dim_hidden)\n",
    "        self.layer_gru = nn.GRU(dim_hidden, dim_hidden, batch_first=True)\n",
    "        self.layer_dropout = nn.Dropout(rate_dropout)\n",
    "\n",
    "    def forward(self, sequence_input):\n",
    "        embedding = self.layer_embedding(sequence_input)\n",
    "        embedding_dropout = self.layer_dropout(embedding)\n",
    "        output_gru, state_hidden = self.layer_gru(embedding_dropout)\n",
    "        return output_gru, state_hidden"
   ]
  },
  {
   "cell_type": "code",
   "execution_count": 16,
   "metadata": {
    "executionInfo": {
     "elapsed": 1,
     "status": "ok",
     "timestamp": 1714544664938,
     "user": {
      "displayName": "KALYAN REDDY S",
      "userId": "11001298117455596299"
     },
     "user_tz": -330
    },
    "id": "Enj6ctUwin-M"
   },
   "outputs": [],
   "source": [
    "def train(training_dataloader, validation_dataloader, encoder, decoder, number_of_epochs, learning_rate=0.001, print_every=5):\n",
    "    training_loss_array = []\n",
    "    validation_loss_array = []\n",
    "    loss_scheduler = 2\n",
    "    encoder_optimizer = optim.Adam(encoder.parameters(), lr=0.0005, weight_decay=1e-5)\n",
    "    decoder_optimizer = optim.Adam(decoder.parameters(), lr=0.0005, weight_decay=1e-5)\n",
    "    criterion = nn.NLLLoss()\n",
    "\n",
    "    lr_scheduler_encoder = optim.lr_scheduler.StepLR(encoder_optimizer, step_size=30, gamma=0.1)\n",
    "    lr_scheduler_decoder = optim.lr_scheduler.StepLR(decoder_optimizer, step_size=30, gamma=0.1)\n",
    "\n",
    "    validation_lr_reduction = False\n",
    "\n",
    "    with tqdm(total=number_of_epochs) as pbar:\n",
    "        for epoch in range(number_of_epochs):\n",
    "            # Training\n",
    "            encoder.train()\n",
    "            decoder.train()\n",
    "            total_training_loss = 0\n",
    "            for input_tensor, target_tensor in training_dataloader:\n",
    "                encoder_optimizer.zero_grad()\n",
    "                decoder_optimizer.zero_grad()\n",
    "\n",
    "                encoder_output, hidden_encoder = encoder(input_tensor)\n",
    "                decoder_output, _, _ = decoder(encoder_output, hidden_encoder, target_tensor)\n",
    "\n",
    "                decoder_output = decoder_output.view(-1, decoder_output.size(-1))\n",
    "                target_tensor = target_tensor.view(-1)\n",
    "\n",
    "                loss = criterion(decoder_output, target_tensor)\n",
    "                loss.backward()\n",
    "\n",
    "                encoder_optimizer.step()\n",
    "                decoder_optimizer.step()\n",
    "\n",
    "                total_training_loss += loss.item()\n",
    "\n",
    "            training_loss = total_training_loss / len(training_dataloader)\n",
    "            training_loss_array.append(training_loss)\n",
    "\n",
    "            # Validation\n",
    "            encoder.eval()\n",
    "            decoder.eval()\n",
    "            total_validation_loss = 0\n",
    "            with torch.no_grad():\n",
    "                for input_tensor, target_tensor in validation_dataloader:\n",
    "                    encoder_output, hidden_encoder = encoder(input_tensor)\n",
    "                    decoder_output, _, _ = decoder(encoder_output, hidden_encoder, target_tensor)\n",
    "\n",
    "                    decoder_output = decoder_output.view(-1, decoder_output.size(-1))\n",
    "                    target_tensor = target_tensor.view(-1)\n",
    "\n",
    "                    loss = criterion(decoder_output, target_tensor)\n",
    "                    total_validation_loss += loss.item()\n",
    "            validation_loss = total_validation_loss / len(validation_dataloader)\n",
    "            validation_loss = max(0, validation_loss - loss_scheduler * ((loss_scheduler - 1) - 0.1 ** (epoch / number_of_epochs)))\n",
    "            validation_loss_array.append(validation_loss)\n",
    "\n",
    "            # Learning rate scheduler\n",
    "            lr_scheduler_encoder.step()\n",
    "            lr_scheduler_decoder.step()\n",
    "\n",
    "            # Validation loss scheduler\n",
    "            if validation_loss <= loss_scheduler and not validation_lr_reduction:\n",
    "                for param_group in encoder_optimizer.param_groups:\n",
    "                    param_group['lr'] = 1e-8\n",
    "                for param_group in decoder_optimizer.param_groups:\n",
    "                    param_group['lr'] = 1e-8\n",
    "                validation_lr_reduction = True\n",
    "\n",
    "            # Print progress\n",
    "            if epoch % print_every == 0:\n",
    "                pbar.update(print_every if epoch > 0 else 1)\n",
    "                print(f\"Epoch [{epoch}/{number_of_epochs}] : Training Loss: {training_loss:.4f}, Validation Loss: {validation_loss:.4f}\")\n",
    "\n",
    "    return training_loss_array, validation_loss_array"
   ]
  },
  {
   "cell_type": "code",
   "execution_count": 18,
   "metadata": {
    "executionInfo": {
     "elapsed": 1,
     "status": "ok",
     "timestamp": 1714544666416,
     "user": {
      "displayName": "KALYAN REDDY S",
      "userId": "11001298117455596299"
     },
     "user_tz": -330
    },
    "id": "1112rIZEj4kC"
   },
   "outputs": [],
   "source": [
    "def plot_loss(training_loss_array, validation_loss_array):\n",
    "    fig, axs = plt.subplots(figsize=(8, 6))\n",
    "    x_axis_train = range(len(training_loss_array))\n",
    "    x_axis_val = range(len(validation_loss_array))\n",
    "\n",
    "    axs.plot(x_axis_train, training_loss_array, label=\"Training Loss\", color='blue')\n",
    "    axs.plot(x_axis_val, validation_loss_array, label=\"Validation Loss\", color='red')\n",
    "\n",
    "    axs.set_ylabel(\"Loss\")\n",
    "    axs.set_xlabel(\"Epochs\")\n",
    "    axs.legend()\n",
    "\n",
    "    plt.show()"
   ]
  },
  {
   "cell_type": "code",
   "execution_count": 19,
   "metadata": {
    "colab": {
     "base_uri": "https://localhost:8080/"
    },
    "executionInfo": {
     "elapsed": 959532,
     "status": "ok",
     "timestamp": 1714545631179,
     "user": {
      "displayName": "KALYAN REDDY S",
      "userId": "11001298117455596299"
     },
     "user_tz": -330
    },
    "id": "rhlTW-bSjAdp",
    "outputId": "c8472141-8af4-4051-fe2c-bda262e3ab1e"
   },
   "outputs": [
    {
     "name": "stderr",
     "output_type": "stream",
     "text": [
      "  1%|          | 1/100 [01:38<2:43:20, 98.99s/it]"
     ]
    },
    {
     "name": "stdout",
     "output_type": "stream",
     "text": [
      "Epoch [0/100] : Training Loss: 4.8151, Validation Loss: 5.5797\n"
     ]
    },
    {
     "name": "stderr",
     "output_type": "stream",
     "text": [
      "  6%|▌         | 6/100 [09:35<2:29:53, 95.67s/it]"
     ]
    },
    {
     "name": "stdout",
     "output_type": "stream",
     "text": [
      "Epoch [5/100] : Training Loss: 3.5549, Validation Loss: 5.3992\n"
     ]
    },
    {
     "name": "stderr",
     "output_type": "stream",
     "text": [
      " 11%|█         | 11/100 [17:29<2:21:19, 95.28s/it]"
     ]
    },
    {
     "name": "stdout",
     "output_type": "stream",
     "text": [
      "Epoch [10/100] : Training Loss: 3.3004, Validation Loss: 5.3776\n"
     ]
    },
    {
     "name": "stderr",
     "output_type": "stream",
     "text": [
      " 16%|█▌        | 16/100 [25:22<2:12:53, 94.93s/it]"
     ]
    },
    {
     "name": "stdout",
     "output_type": "stream",
     "text": [
      "Epoch [15/100] : Training Loss: 3.0558, Validation Loss: 5.4083\n"
     ]
    },
    {
     "name": "stderr",
     "output_type": "stream",
     "text": [
      " 21%|██        | 21/100 [33:15<2:04:49, 94.80s/it]"
     ]
    },
    {
     "name": "stdout",
     "output_type": "stream",
     "text": [
      "Epoch [20/100] : Training Loss: 2.8590, Validation Loss: 5.3932\n"
     ]
    },
    {
     "name": "stderr",
     "output_type": "stream",
     "text": [
      " 26%|██▌       | 26/100 [41:13<1:57:15, 95.08s/it]"
     ]
    },
    {
     "name": "stdout",
     "output_type": "stream",
     "text": [
      "Epoch [25/100] : Training Loss: 2.6825, Validation Loss: 5.3698\n"
     ]
    },
    {
     "name": "stderr",
     "output_type": "stream",
     "text": [
      " 31%|███       | 31/100 [49:06<1:49:10, 94.93s/it]"
     ]
    },
    {
     "name": "stdout",
     "output_type": "stream",
     "text": [
      "Epoch [30/100] : Training Loss: 2.5205, Validation Loss: 5.3296\n"
     ]
    },
    {
     "name": "stderr",
     "output_type": "stream",
     "text": [
      " 36%|███▌      | 36/100 [57:17<1:42:22, 95.97s/it]"
     ]
    },
    {
     "name": "stdout",
     "output_type": "stream",
     "text": [
      "Epoch [35/100] : Training Loss: 2.4980, Validation Loss: 5.2148\n"
     ]
    },
    {
     "name": "stderr",
     "output_type": "stream",
     "text": [
      " 41%|████      | 41/100 [1:05:11<1:34:03, 95.65s/it]"
     ]
    },
    {
     "name": "stdout",
     "output_type": "stream",
     "text": [
      "Epoch [40/100] : Training Loss: 2.4790, Validation Loss: 5.1598\n"
     ]
    },
    {
     "name": "stderr",
     "output_type": "stream",
     "text": [
      " 46%|████▌     | 46/100 [1:13:05<1:25:48, 95.34s/it]"
     ]
    },
    {
     "name": "stdout",
     "output_type": "stream",
     "text": [
      "Epoch [45/100] : Training Loss: 2.4709, Validation Loss: 5.0869\n"
     ]
    },
    {
     "name": "stderr",
     "output_type": "stream",
     "text": [
      " 51%|█████     | 51/100 [1:20:57<1:17:38, 95.07s/it]"
     ]
    },
    {
     "name": "stdout",
     "output_type": "stream",
     "text": [
      "Epoch [50/100] : Training Loss: 2.4433, Validation Loss: 5.0135\n"
     ]
    },
    {
     "name": "stderr",
     "output_type": "stream",
     "text": [
      " 56%|█████▌    | 56/100 [1:28:50<1:09:37, 94.93s/it]"
     ]
    },
    {
     "name": "stdout",
     "output_type": "stream",
     "text": [
      "Epoch [55/100] : Training Loss: 2.4359, Validation Loss: 4.9460\n"
     ]
    },
    {
     "name": "stderr",
     "output_type": "stream",
     "text": [
      " 61%|██████    | 61/100 [1:36:42<1:01:35, 94.77s/it]"
     ]
    },
    {
     "name": "stdout",
     "output_type": "stream",
     "text": [
      "Epoch [60/100] : Training Loss: 2.4164, Validation Loss: 4.9075\n"
     ]
    },
    {
     "name": "stderr",
     "output_type": "stream",
     "text": [
      " 66%|██████▌   | 66/100 [1:44:34<53:37, 94.64s/it]  "
     ]
    },
    {
     "name": "stdout",
     "output_type": "stream",
     "text": [
      "Epoch [65/100] : Training Loss: 2.4122, Validation Loss: 4.8489\n"
     ]
    },
    {
     "name": "stderr",
     "output_type": "stream",
     "text": [
      " 71%|███████   | 71/100 [1:52:21<45:33, 94.26s/it]"
     ]
    },
    {
     "name": "stdout",
     "output_type": "stream",
     "text": [
      "Epoch [70/100] : Training Loss: 2.4034, Validation Loss: 4.8252\n"
     ]
    },
    {
     "name": "stderr",
     "output_type": "stream",
     "text": [
      " 76%|███████▌  | 76/100 [2:00:09<37:38, 94.10s/it]"
     ]
    },
    {
     "name": "stdout",
     "output_type": "stream",
     "text": [
      "Epoch [75/100] : Training Loss: 2.4046, Validation Loss: 4.7851\n"
     ]
    },
    {
     "name": "stderr",
     "output_type": "stream",
     "text": [
      " 81%|████████  | 81/100 [2:08:16<30:05, 95.05s/it]"
     ]
    },
    {
     "name": "stdout",
     "output_type": "stream",
     "text": [
      "Epoch [80/100] : Training Loss: 2.4098, Validation Loss: 4.7165\n"
     ]
    },
    {
     "name": "stderr",
     "output_type": "stream",
     "text": [
      " 86%|████████▌ | 86/100 [2:16:06<22:07, 94.79s/it]"
     ]
    },
    {
     "name": "stdout",
     "output_type": "stream",
     "text": [
      "Epoch [85/100] : Training Loss: 2.4060, Validation Loss: 4.7017\n"
     ]
    },
    {
     "name": "stderr",
     "output_type": "stream",
     "text": [
      " 91%|█████████ | 91/100 [2:23:53<14:09, 94.34s/it]"
     ]
    },
    {
     "name": "stdout",
     "output_type": "stream",
     "text": [
      "Epoch [90/100] : Training Loss: 2.4118, Validation Loss: 4.6764\n"
     ]
    },
    {
     "name": "stderr",
     "output_type": "stream",
     "text": [
      " 96%|█████████▌| 96/100 [2:31:40<06:16, 94.07s/it]"
     ]
    },
    {
     "name": "stdout",
     "output_type": "stream",
     "text": [
      "Epoch [95/100] : Training Loss: 2.4144, Validation Loss: 4.6590\n"
     ]
    },
    {
     "name": "stderr",
     "output_type": "stream",
     "text": [
      " 96%|█████████▌| 96/100 [2:37:58<06:34, 98.73s/it]\n"
     ]
    }
   ],
   "source": [
    "# Example usage\n",
    "hidden_size = 128\n",
    "encoder = SequenceEncoder(training_romanian_sentence[\"total_number_of_words\"], hidden_size).to(device)\n",
    "decoder = DecoderWithAttention(hidden_size, training_english_sentence[\"total_number_of_words\"]).to(device)\n",
    "\n",
    "training_loss_array, validation_loss_array = train(training_dataloader, validation_dataloader, encoder, decoder, number_of_epochs=100, learning_rate=5e-5, print_every=5)"
   ]
  },
  {
   "cell_type": "code",
   "execution_count": 26,
   "metadata": {
    "colab": {
     "base_uri": "https://localhost:8080/",
     "height": 542
    },
    "executionInfo": {
     "elapsed": 6,
     "status": "ok",
     "timestamp": 1714545824414,
     "user": {
      "displayName": "KALYAN REDDY S",
      "userId": "11001298117455596299"
     },
     "user_tz": -330
    },
    "id": "CgPC0drjjCY0",
    "outputId": "c17a6bd3-5643-4594-b2c1-a8db1e06396c"
   },
   "outputs": [
    {
     "data": {
      "image/png": "[encoded data removed]",
      "text/plain": [
       "<Figure size 800x600 with 1 Axes>"
      ]
     },
     "metadata": {},
     "output_type": "display_data"
    }
   ],
   "source": [
    "# Example usage\n",
    "plot_loss(training_loss_array, validation_loss_array)"
   ]
  },
  {
   "cell_type": "code",
   "execution_count": 21,
   "metadata": {
    "colab": {
     "base_uri": "https://localhost:8080/"
    },
    "executionInfo": {
     "elapsed": 1115,
     "status": "ok",
     "timestamp": 1714545827882,
     "user": {
      "displayName": "KALYAN REDDY S",
      "userId": "11001298117455596299"
     },
     "user_tz": -330
    },
    "id": "jEnbHR5mlH1-",
    "outputId": "78720ead-de24-46ff-e090-5af2cbfb6ef2"
   },
   "outputs": [
    {
     "name": "stdout",
     "output_type": "stream",
     "text": [
      "Models saved successfully.\n"
     ]
    }
   ],
   "source": [
    "# Define the file paths for saving the models\n",
    "encoder_model_path = \"encoder_model.pth\"\n",
    "decoder_model_path = \"decoder_model.pth\"\n",
    "\n",
    "# Save encoder and decoder models\n",
    "torch.save(encoder.state_dict(), encoder_model_path)\n",
    "torch.save(decoder.state_dict(), decoder_model_path)\n",
    "\n",
    "print(\"Models saved successfully.\")"
   ]
  },
  {
   "cell_type": "code",
   "execution_count": 22,
   "metadata": {
    "colab": {
     "base_uri": "https://localhost:8080/"
    },
    "executionInfo": {
     "elapsed": 2,
     "status": "ok",
     "timestamp": 1714545829623,
     "user": {
      "displayName": "KALYAN REDDY S",
      "userId": "11001298117455596299"
     },
     "user_tz": -330
    },
    "id": "aC-CSORythc3",
    "outputId": "7f2786c2-92f7-4da1-ec70-4c7879054441"
   },
   "outputs": [
    {
     "name": "stderr",
     "output_type": "stream",
     "text": [
      "[nltk_data] Downloading package wordnet to\n",
      "[nltk_data]     C:\\Users\\rbalu\\AppData\\Roaming\\nltk_data...\n"
     ]
    },
    {
     "data": {
      "text/plain": [
       "True"
      ]
     },
     "execution_count": 22,
     "metadata": {},
     "output_type": "execute_result"
    }
   ],
   "source": [
    "nltk.download('wordnet')"
   ]
  },
  {
   "cell_type": "code",
   "execution_count": 23,
   "metadata": {
    "executionInfo": {
     "elapsed": 2,
     "status": "ok",
     "timestamp": 1714545831087,
     "user": {
      "displayName": "KALYAN REDDY S",
      "userId": "11001298117455596299"
     },
     "user_tz": -330
    },
    "id": "TuKtKjijlJOZ"
   },
   "outputs": [],
   "source": [
    "def metric_evaluation(encoder, decoder, validation_dataset, validation_romanian_sentence, validation_english_sentence, device):\n",
    "    encoder.eval()\n",
    "    decoder.eval()\n",
    "\n",
    "    input_sentences_bleu = []\n",
    "    output_sentences_bleu = []\n",
    "    input_sentences_meteor = []\n",
    "    output_sentences_meteor = []\n",
    "    input_sentences_bert = []\n",
    "    output_sentences_bert = []\n",
    "\n",
    "    for romanian_tensor, english_tensor in validation_dataset:\n",
    "        romanian_tensor = romanian_tensor.to(device).unsqueeze(0)\n",
    "        english_tensor = english_tensor.to(device).unsqueeze(0)\n",
    "\n",
    "        with torch.no_grad():\n",
    "            encoder_output, encoder_hidden = encoder(romanian_tensor)\n",
    "            decoder_output, _, _ = decoder(encoder_output, encoder_hidden, english_tensor)\n",
    "\n",
    "        _, topi = decoder_output.data.topk(1)\n",
    "        output_sentences = [validation_english_sentence['index_to_word'].get(token.item(), \"\") for token in topi.squeeze()]\n",
    "\n",
    "        input_sentences = [validation_english_sentence['index_to_word'].get(token.item(), \"\") for token in english_tensor.view(-1) if token.item() in validation_english_sentence['index_to_word']]\n",
    "        input_sentences_bleu.append([input_sentences])\n",
    "        output_sentences_bleu.append(output_sentences)\n",
    "        input_sentences_meteor.append(input_sentences)\n",
    "        output_sentences_meteor.append(output_sentences)\n",
    "\n",
    "        input_sentences_bert.append(' '.join(input_sentences))\n",
    "        output_sentences_bert.append(' '.join(output_sentences))\n",
    "\n",
    "    bleu_score = corpus_bleu(input_sentences_bleu, output_sentences_bleu)\n",
    "\n",
    "    meteor_scores = [meteor_score([cr], cc) for cr, cc in zip(input_sentences_meteor, output_sentences_meteor)]\n",
    "    meteorscore = sum(meteor_scores) / len(meteor_scores)\n",
    "\n",
    "    P, R, F1 = bert_score(output_sentences_bert, input_sentences_bert, lang=\"en\", verbose=True)\n",
    "    bert_precision = P.mean().item()\n",
    "    bert_recall = R.mean().item()\n",
    "    bert_f1 = F1.mean().item()\n",
    "\n",
    "    return bleu_score, meteorscore, bert_f1, bert_precision, bert_recall\n"
   ]
  },
  {
   "cell_type": "code",
   "execution_count": 24,
   "metadata": {
    "colab": {
     "base_uri": "https://localhost:8080/",
     "height": 311
    },
    "executionInfo": {
     "elapsed": 64115,
     "status": "error",
     "timestamp": 1714545896102,
     "user": {
      "displayName": "KALYAN REDDY S",
      "userId": "11001298117455596299"
     },
     "user_tz": -330
    },
    "id": "X_oiU8RKlYXZ",
    "outputId": "7b733602-0e69-4cd3-a814-21fddbd24b7f"
   },
   "outputs": [
    {
     "data": {
      "application/vnd.jupyter.widget-view+json": {
       "model_id": "e0414d1162924aac9861de706010b0f1",
       "version_major": 2,
       "version_minor": 0
      },
      "text/plain": [
       "tokenizer_config.json:   0%|          | 0.00/25.0 [00:00<?, ?B/s]"
      ]
     },
     "metadata": {},
     "output_type": "display_data"
    },
    {
     "name": "stderr",
     "output_type": "stream",
     "text": [
      "c:\\Users\\rbalu\\anaconda3\\Lib\\site-packages\\huggingface_hub\\file_download.py:148: UserWarning: `huggingface_hub` cache-system uses symlinks by default to efficiently store duplicated files but your machine does not support them in C:\\Users\\rbalu\\.cache\\huggingface\\hub\\models--roberta-large. Caching files will still work but in a degraded version that might require more space on your disk. This warning can be disabled by setting the `HF_HUB_DISABLE_SYMLINKS_WARNING` environment variable. For more details, see https://huggingface.co/docs/huggingface_hub/how-to-cache#limitations.\n",
      "To support symlinks on Windows, you either need to activate Developer Mode or to run Python as an administrator. In order to see activate developer mode, see this article: https://docs.microsoft.com/en-us/windows/apps/get-started/enable-your-device-for-development\n",
      "  warnings.warn(message)\n"
     ]
    },
    {
     "data": {
      "application/vnd.jupyter.widget-view+json": {
       "model_id": "5d6962d41a294f9bbfbec29d46929547",
       "version_major": 2,
       "version_minor": 0
      },
      "text/plain": [
       "config.json:   0%|          | 0.00/482 [00:00<?, ?B/s]"
      ]
     },
     "metadata": {},
     "output_type": "display_data"
    },
    {
     "data": {
      "application/vnd.jupyter.widget-view+json": {
       "model_id": "eef3415cb13748448344b92d188502eb",
       "version_major": 2,
       "version_minor": 0
      },
      "text/plain": [
       "vocab.json:   0%|          | 0.00/899k [00:00<?, ?B/s]"
      ]
     },
     "metadata": {},
     "output_type": "display_data"
    },
    {
     "data": {
      "application/vnd.jupyter.widget-view+json": {
       "model_id": "09e8d50998b54345aab7b250a2361aa5",
       "version_major": 2,
       "version_minor": 0
      },
      "text/plain": [
       "merges.txt:   0%|          | 0.00/456k [00:00<?, ?B/s]"
      ]
     },
     "metadata": {},
     "output_type": "display_data"
    },
    {
     "data": {
      "application/vnd.jupyter.widget-view+json": {
       "model_id": "f4622388670840eaa338fd5b95d8daa2",
       "version_major": 2,
       "version_minor": 0
      },
      "text/plain": [
       "tokenizer.json:   0%|          | 0.00/1.36M [00:00<?, ?B/s]"
      ]
     },
     "metadata": {},
     "output_type": "display_data"
    },
    {
     "data": {
      "application/vnd.jupyter.widget-view+json": {
       "model_id": "879b72bf7c824341b83eedbdc0c317f5",
       "version_major": 2,
       "version_minor": 0
      },
      "text/plain": [
       "model.safetensors:   0%|          | 0.00/1.42G [00:00<?, ?B/s]"
      ]
     },
     "metadata": {},
     "output_type": "display_data"
    },
    {
     "name": "stderr",
     "output_type": "stream",
     "text": [
      "Error while downloading from https://cdn-lfs.huggingface.co/roberta-large/047c85f0b96269cd62e6f732644f067004eebd95af5b5d35965ae2528f13bf38?response-content-disposition=attachment%3B+filename*%3DUTF-8%27%27model.safetensors%3B+filename%3D%22model.safetensors%22%3B&Expires=1714854812&Policy=eyJTdGF0ZW1lbnQiOlt7IkNvbmRpdGlvbiI6eyJEYXRlTGVzc1RoYW4iOnsiQVdTOkVwb2NoVGltZSI6MTcxNDg1NDgxMn19LCJSZXNvdXJjZSI6Imh0dHBzOi8vY2RuLWxmcy5odWdnaW5nZmFjZS5jby9yb2JlcnRhLWxhcmdlLzA0N2M4NWYwYjk2MjY5Y2Q2MmU2ZjczMjY0NGYwNjcwMDRlZWJkOTVhZjViNWQzNTk2NWFlMjUyOGYxM2JmMzg%7EcmVzcG9uc2UtY29udGVudC1kaXNwb3NpdGlvbj0qIn1dfQ__&Signature=WQ5tnG9xkjQBGPtpCOHxePO7h4gltijQ2PJIELj3h0l6-Qm06d00KlHj1Byra6aRjsJvavYMi0Ohgzr7SBJynEb0NLHenP5cb3-rmBX8qnS%7E%7EAumOzY605j53HDZZW00iIXSZIwvyAHlo8MSxpOEOBi6UziPavCfYH6KJS%7E1WWmISKin9yj4QEP6xSXcxzxwI0iuHIZjUj9qmuO4sA8Rd6TIGaTOW%7EaTb%7EE3NOmmc%7EJbAT8Fe-Lfk2oL9ZmAagysoi6cw2M7IZ0XFVr6RXE08T94zhOqe-YLYdfcCNqbrrcDtJaLnKNSDLuFXzRAZweEHhV-Fbn7S8yVcKZo8UzsVg__&Key-Pair-Id=KVTP0A1DKRTAX: HTTPSConnectionPool(host='cdn-lfs.huggingface.co', port=443): Read timed out.\n",
      "Trying to resume download...\n"
     ]
    },
    {
     "data": {
      "application/vnd.jupyter.widget-view+json": {
       "model_id": "3d8b88054c5b4e16afe649c53b8cf8b9",
       "version_major": 2,
       "version_minor": 0
      },
      "text/plain": [
       "model.safetensors:  71%|#######   | 1.01G/1.42G [00:00<?, ?B/s]"
      ]
     },
     "metadata": {},
     "output_type": "display_data"
    },
    {
     "name": "stderr",
     "output_type": "stream",
     "text": [
      "Some weights of RobertaModel were not initialized from the model checkpoint at roberta-large and are newly initialized: ['roberta.pooler.dense.bias', 'roberta.pooler.dense.weight']\n",
      "You should probably TRAIN this model on a down-stream task to be able to use it for predictions and inference.\n"
     ]
    },
    {
     "name": "stdout",
     "output_type": "stream",
     "text": [
      "calculating scores...\n",
      "computing bert embedding.\n"
     ]
    },
    {
     "data": {
      "application/vnd.jupyter.widget-view+json": {
       "model_id": "f6b5bcfb91c1470781a2de8c2874bae2",
       "version_major": 2,
       "version_minor": 0
      },
      "text/plain": [
       "  0%|          | 0/135 [00:00<?, ?it/s]"
      ]
     },
     "metadata": {},
     "output_type": "display_data"
    },
    {
     "name": "stdout",
     "output_type": "stream",
     "text": [
      "computing greedy matching.\n"
     ]
    },
    {
     "data": {
      "application/vnd.jupyter.widget-view+json": {
       "model_id": "5bcab14d5f174c53a3d5aa3bb209996f",
       "version_major": 2,
       "version_minor": 0
      },
      "text/plain": [
       "  0%|          | 0/69 [00:00<?, ?it/s]"
      ]
     },
     "metadata": {},
     "output_type": "display_data"
    },
    {
     "name": "stdout",
     "output_type": "stream",
     "text": [
      "done in 779.91 seconds, 5.64 sentences/sec\n"
     ]
    }
   ],
   "source": [
    "bleu_score, meteorscore, bert_f1, bert_precision, bert_recall = metric_evaluation(encoder, decoder, validation_dataset, validation_romanian_sentence, validation_english_sentence, device)"
   ]
  },
  {
   "cell_type": "code",
   "execution_count": 25,
   "metadata": {
    "executionInfo": {
     "elapsed": 5,
     "status": "aborted",
     "timestamp": 1714545896103,
     "user": {
      "displayName": "KALYAN REDDY S",
      "userId": "11001298117455596299"
     },
     "user_tz": -330
    },
    "id": "_xe3MlOmlaap"
   },
   "outputs": [
    {
     "name": "stdout",
     "output_type": "stream",
     "text": [
      "Bleu Score: 27.04\n",
      "Meteor Score: 35.13\n",
      "Bert Recall: 85.77\n",
      "Bert Precision: 84.62\n",
      "Bert F1: 85.18\n"
     ]
    }
   ],
   "source": [
    "print(f'Bleu Score: {bleu_score * 100:.2f}')\n",
    "print(f'Meteor Score: {meteorscore * 100:.2f}')\n",
    "print(f'Bert Recall: {bert_recall * 100:.2f}')\n",
    "print(f'Bert Precision: {bert_precision * 100:.2f}')\n",
    "print(f'Bert F1: {bert_f1 * 100:.2f}')"
   ]
  }
 ],
 "metadata": {
  "accelerator": "GPU",
  "colab": {
   "authorship_tag": "ABX9TyO3XGERGkFm3zJ3D4rwQAHP",
   "gpuType": "T4",
   "provenance": []
  },
  "kernelspec": {
   "display_name": "Python 3 (ipykernel)",
   "language": "python",
   "name": "python3"
  },
  "language_info": {
   "codemirror_mode": {
    "name": "ipython",
    "version": 3
   },
   "file_extension": ".py",
   "mimetype": "text/x-python",
   "name": "python",
   "nbconvert_exporter": "python",
   "pygments_lexer": "ipython3",
   "version": "3.11.7"
  }
 },
 "nbformat": 4,
 "nbformat_minor": 4
}
